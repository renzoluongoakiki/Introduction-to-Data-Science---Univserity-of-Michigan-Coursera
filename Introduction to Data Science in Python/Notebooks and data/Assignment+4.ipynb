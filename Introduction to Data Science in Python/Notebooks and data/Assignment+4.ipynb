{
 "cells": [
  {
   "cell_type": "markdown",
   "metadata": {},
   "source": [
    "---\n",
    "\n",
    "_You are currently looking at **version 1.1** of this notebook. To download notebooks and datafiles, as well as get help on Jupyter notebooks in the Coursera platform, visit the [Jupyter Notebook FAQ](https://www.coursera.org/learn/python-data-analysis/resources/0dhYG) course resource._\n",
    "\n",
    "---"
   ]
  },
  {
   "cell_type": "code",
   "execution_count": 2,
   "metadata": {
    "collapsed": true
   },
   "outputs": [],
   "source": [
    "import pandas as pd\n",
    "import numpy as np\n",
    "from scipy.stats import ttest_ind"
   ]
  },
  {
   "cell_type": "markdown",
   "metadata": {},
   "source": [
    "# Assignment 4 - Hypothesis Testing\n",
    "This assignment requires more individual learning than previous assignments - you are encouraged to check out the [pandas documentation](http://pandas.pydata.org/pandas-docs/stable/) to find functions or methods you might not have used yet, or ask questions on [Stack Overflow](http://stackoverflow.com/) and tag them as pandas and python related. And of course, the discussion forums are open for interaction with your peers and the course staff.\n",
    "\n",
    "Definitions:\n",
    "* A _quarter_ is a specific three month period, Q1 is January through March, Q2 is April through June, Q3 is July through September, Q4 is October through December.\n",
    "* A _recession_ is defined as starting with two consecutive quarters of GDP decline, and ending with two consecutive quarters of GDP growth.\n",
    "* A _recession bottom_ is the quarter within a recession which had the lowest GDP.\n",
    "* A _university town_ is a city which has a high percentage of university students compared to the total population of the city.\n",
    "\n",
    "**Hypothesis**: University towns have their mean housing prices less effected by recessions. Run a t-test to compare the ratio of the mean price of houses in university towns the quarter before the recession starts compared to the recession bottom. (`price_ratio=quarter_before_recession/recession_bottom`)\n",
    "\n",
    "The following data files are available for this assignment:\n",
    "* From the [Zillow research data site](http://www.zillow.com/research/data/) there is housing data for the United States. In particular the datafile for [all homes at a city level](http://files.zillowstatic.com/research/public/City/City_Zhvi_AllHomes.csv), ```City_Zhvi_AllHomes.csv```, has median home sale prices at a fine grained level.\n",
    "* From the Wikipedia page on college towns is a list of [university towns in the United States](https://en.wikipedia.org/wiki/List_of_college_towns#College_towns_in_the_United_States) which has been copy and pasted into the file ```university_towns.txt```.\n",
    "* From Bureau of Economic Analysis, US Department of Commerce, the [GDP over time](http://www.bea.gov/national/index.htm#gdp) of the United States in current dollars (use the chained value in 2009 dollars), in quarterly intervals, in the file ```gdplev.xls```. For this assignment, only look at GDP data from the first quarter of 2000 onward.\n",
    "\n",
    "Each function in this assignment below is worth 10%, with the exception of ```run_ttest()```, which is worth 50%."
   ]
  },
  {
   "cell_type": "code",
   "execution_count": 3,
   "metadata": {
    "collapsed": true
   },
   "outputs": [],
   "source": [
    "# Use this dictionary to map state names to two letter acronyms\n",
    "states = {'OH': 'Ohio', 'KY': 'Kentucky', 'AS': 'American Samoa', 'NV': 'Nevada', 'WY': 'Wyoming', 'NA': 'National', 'AL': 'Alabama', 'MD': 'Maryland', 'AK': 'Alaska', 'UT': 'Utah', 'OR': 'Oregon', 'MT': 'Montana', 'IL': 'Illinois', 'TN': 'Tennessee', 'DC': 'District of Columbia', 'VT': 'Vermont', 'ID': 'Idaho', 'AR': 'Arkansas', 'ME': 'Maine', 'WA': 'Washington', 'HI': 'Hawaii', 'WI': 'Wisconsin', 'MI': 'Michigan', 'IN': 'Indiana', 'NJ': 'New Jersey', 'AZ': 'Arizona', 'GU': 'Guam', 'MS': 'Mississippi', 'PR': 'Puerto Rico', 'NC': 'North Carolina', 'TX': 'Texas', 'SD': 'South Dakota', 'MP': 'Northern Mariana Islands', 'IA': 'Iowa', 'MO': 'Missouri', 'CT': 'Connecticut', 'WV': 'West Virginia', 'SC': 'South Carolina', 'LA': 'Louisiana', 'KS': 'Kansas', 'NY': 'New York', 'NE': 'Nebraska', 'OK': 'Oklahoma', 'FL': 'Florida', 'CA': 'California', 'CO': 'Colorado', 'PA': 'Pennsylvania', 'DE': 'Delaware', 'NM': 'New Mexico', 'RI': 'Rhode Island', 'MN': 'Minnesota', 'VI': 'Virgin Islands', 'NH': 'New Hampshire', 'MA': 'Massachusetts', 'GA': 'Georgia', 'ND': 'North Dakota', 'VA': 'Virginia'}"
   ]
  },
  {
   "cell_type": "code",
   "execution_count": 4,
   "metadata": {
    "collapsed": true,
    "umich_part_id": "021",
    "umich_partlist_id": "004"
   },
   "outputs": [],
   "source": [
    "def get_list_of_university_towns():\n",
    "    '''Returns a DataFrame of towns and the states they are in from the \n",
    "    university_towns.txt list. The format of the DataFrame should be:\n",
    "    DataFrame( [ [\"Michigan\", \"Ann Arbor\"], [\"Michigan\", \"Yipsilanti\"] ], \n",
    "    columns=[\"State\", \"RegionName\"]  )\n",
    "    \n",
    "    The following cleaning needs to be done:\n",
    "\n",
    "    1. For \"State\", removing characters from \"[\" to the end.\n",
    "    2. For \"RegionName\", when applicable, removing every character from \" (\" to the end.\n",
    "    3. Depending on how you read the data, you may need to remove newline character '\\n'. '''\n",
    "    \n",
    "    # Have to specify entries are separated by new line. Setting header = None stops the first row entry from becoming the column name.\n",
    "    uni_towns = pd.read_csv('university_towns.txt',sep='\\n', header=None, names=['RegionName'])\n",
    "    #Enter state name in column 'State' in the same row as 'RegionName'. Set everything else to NaN.\n",
    "    uni_towns['State'] = np.where(uni_towns['RegionName'].str.contains('edit'),uni_towns['RegionName'],np.NaN)\n",
    "    # Replace NaN values in State using Forward fill\n",
    "    uni_towns['State'].fillna(method='ffill',inplace=True)\n",
    "    # Rearrange columns to required order: first State and then RegionName\n",
    "    uni_towns = uni_towns[['State','RegionName']]\n",
    "    # Use '(' and '[' split for both columns. expand = True splits the string into different columns.\n",
    "    for col in uni_towns:\n",
    "        uni_towns[col] = uni_towns[col].str.split('[', expand=True)[0].str.split('(',expand=True)[0].str.rstrip()\n",
    "    # Remove rows where State=RegionName\n",
    "    uni_towns = uni_towns[uni_towns['State'] != uni_towns['RegionName']]  \n",
    "    \n",
    "    return uni_towns"
   ]
  },
  {
   "cell_type": "code",
   "execution_count": 6,
   "metadata": {
    "collapsed": true
   },
   "outputs": [],
   "source": [
    "def read_gdp():\n",
    "    \n",
    "    # Read and skip irrelevant rows    \n",
    "    GDP = pd.read_excel('gdplev.xls', skiprows=5)\n",
    "    # Drop irrelevant columns\n",
    "    GDP = GDP.drop(GDP.columns[[0,1,2,3,5,7]],axis=1)\n",
    "    # Rename columns\n",
    "    GDP.columns = ['Quarter','GDP']\n",
    "    # Find index of first relevant Q (2020q1) and drop every row before it\n",
    "    GDP.index[GDP['Quarter'] == '2000q1']\n",
    "    GDP = GDP.drop(GDP.index[0:214])\n",
    "    # Reset index so it starts at 0 and drop original index\n",
    "    GDP.reset_index(drop=True, inplace=True)\n",
    "    # New column with difference between successive row values of 'GDP'\n",
    "    GDP['GDP Diff'] = GDP['GDP'].diff(periods=1)\n",
    "\n",
    "    return GDP"
   ]
  },
  {
   "cell_type": "code",
   "execution_count": 7,
   "metadata": {
    "collapsed": true,
    "umich_part_id": "022",
    "umich_partlist_id": "004"
   },
   "outputs": [],
   "source": [
    "def get_recession_start():\n",
    "    '''Returns the year and quarter of the recession start time as a \n",
    "    string value in a format such as 2005q3'''\n",
    "    GDP = read_gdp()\n",
    "    # New GDP_decrease dataframe only with quarters with GDP decrease\n",
    "    GDP_decrease = GDP[GDP['GDP Diff']<0]\n",
    "    # Get index values into a column to use diff()\n",
    "    GDP_decrease['Index'] = GDP_decrease.index\n",
    "    GDP_decrease['Index Diff'] = GDP_decrease['Index'].diff()\n",
    "    # Find the FIRST quarter where index difference is 1. idxmin() gives the first occurence of the minimum value.\n",
    "    min_index = GDP_decrease['Index Diff'].idxmin()\n",
    "    #The recesssion start quarters are those that come immediately before the quarters with 'Index Diff' = 1\n",
    "    \n",
    "    return GDP['Quarter'].iloc[min_index-1]"
   ]
  },
  {
   "cell_type": "code",
   "execution_count": 9,
   "metadata": {
    "collapsed": true,
    "umich_part_id": "023",
    "umich_partlist_id": "004"
   },
   "outputs": [],
   "source": [
    "def get_recession_end():\n",
    "    '''Returns the year and quarter of the recession end time as a \n",
    "    string value in a format such as 2005q3'''\n",
    "    GDP = read_gdp()\n",
    "    # Finds all the quarters where there is a rise:\n",
    "    GDP_increase = GDP[GDP['GDP Diff']>0]\n",
    "    # Find the first quarter after the recession starts where there is a successive rise:\n",
    "    GDP_increase['Index'] = GDP_increase.index\n",
    "    GDP_increase['Index Diff'] = GDP_increase['Index'].diff()\n",
    "    # Get index of the \"recovery quarter\" (first quarter positive after at least 2 quarters of negative GPD)\n",
    "    index_of_recovery = GDP_increase[GDP_increase['Index Diff']>=3].index.item()\n",
    "    # The end of the recession is the next one to the \"recovery quarter\"\n",
    "    return GDP['Quarter'].iloc[index_of_recovery+1]"
   ]
  },
  {
   "cell_type": "code",
   "execution_count": 11,
   "metadata": {
    "collapsed": true,
    "umich_part_id": "024",
    "umich_partlist_id": "004"
   },
   "outputs": [],
   "source": [
    "def get_recession_bottom():\n",
    "    '''Returns the year and quarter of the recession bottom time as a \n",
    "    string value in a format such as 2005q3'''\n",
    "    \n",
    "    GDP = read_gdp()\n",
    "    # Get indices of recession start and end quarters:\n",
    "    start_recession_index = GDP.loc[GDP['Quarter'] == get_recession_start()].index.item()\n",
    "    end_recession_index = GDP.loc[GDP['Quarter'] == get_recession_end()].index.item()\n",
    "    # Reduce GDP to the recession range\n",
    "    Recession = GDP.iloc[start_recession_index:end_recession_index+1]\n",
    "    # Get index of bottom quarter\n",
    "    bottom_recession_index = Recession['GDP'].idxmin()\n",
    "    \n",
    "    return Recession['Quarter'][bottom_recession_index]"
   ]
  },
  {
   "cell_type": "code",
   "execution_count": 13,
   "metadata": {
    "collapsed": true
   },
   "outputs": [],
   "source": [
    "def months_to_Q(date: str):\n",
    "    date = date.split('-')\n",
    "    month = int(date[1])\n",
    "    quarter = int((month - 1) / 3) + 1\n",
    "    return date[0] + 'q' + str(quarter)"
   ]
  },
  {
   "cell_type": "code",
   "execution_count": 14,
   "metadata": {
    "collapsed": true,
    "umich_part_id": "025",
    "umich_partlist_id": "004"
   },
   "outputs": [],
   "source": [
    "def convert_housing_data_to_quarters():\n",
    "    '''Converts the housing data to quarters and returns it as mean \n",
    "    values in a dataframe. This dataframe should be a dataframe with\n",
    "    columns for 2000q1 through 2016q3, and should have a multi-index\n",
    "    in the shape of [\"State\",\"RegionName\"].\n",
    "    \n",
    "    Note: Quarters are defined in the assignment description, they are\n",
    "    not arbitrary three month periods.\n",
    "    \n",
    "    The resulting dataframe should have 67 columns, and 10,730 rows.\n",
    "    '''\n",
    "    \n",
    "    all_homes = pd.read_csv('City_Zhvi_AllHomes.csv')\n",
    "\n",
    "    # Drop columns with unnecessary data\n",
    "    columns_to_delete = all_homes.ix[:, '1996-04':'1999-12'].columns\n",
    "    all_homes = all_homes.drop(columns_to_delete, axis = 1)\n",
    "    columns_to_delete = all_homes.columns[[0,3,4,5]]\n",
    "    all_homes = all_homes.drop(columns_to_delete,axis=1)\n",
    "    \n",
    "    # Use given dictionary to change States acronyms to their names\n",
    "    all_homes['State'] = all_homes['State'].map(states)\n",
    "    \n",
    "    # Change order of columns State and RegionName for multiindex\n",
    "    columns = all_homes.columns.tolist()\n",
    "    columns_unchanged = columns[2:]\n",
    "    columns_ordered = ['State', 'RegionName']+columns_unchanged\n",
    "    all_homes = all_homes[columns_ordered]\n",
    "    \n",
    "    ## Set index and sort it alphabetically\n",
    "    all_homes = all_homes.set_index(['State','RegionName']).sort_index()\n",
    "        \n",
    "    # Use function to change columns (yyyy-mm) to quarters and then group by them to calculate mean\n",
    "    all_homes = all_homes.groupby(months_to_Q, axis=1).mean()\n",
    "    \n",
    "    return all_homes"
   ]
  },
  {
   "cell_type": "code",
   "execution_count": 15,
   "metadata": {
    "collapsed": true,
    "umich_part_id": "026",
    "umich_partlist_id": "004"
   },
   "outputs": [],
   "source": [
    "def run_ttest():\n",
    "    '''First creates new data showing the decline or growth of housing prices\n",
    "    between the recession start and the recession bottom. Then runs a ttest\n",
    "    comparing the university town values to the non-university towns values, \n",
    "    return whether the alternative hypothesis (that the two groups are the same)\n",
    "    is true or not as well as the p-value of the confidence. \n",
    "    \n",
    "    Return the tuple (different, p, better) where different=True if the t-test is\n",
    "    True at a p<0.01 (we reject the null hypothesis), or different=False if \n",
    "    otherwise (we cannot reject the null hypothesis). The variable p should\n",
    "    be equal to the exact p value returned from scipy.stats.ttest_ind(). The\n",
    "    value for better should be either \"university town\" or \"non-university town\"\n",
    "    depending on which has a lower mean price ratio (which is equivilent to a\n",
    "    reduced market loss).'''\n",
    "    \n",
    "    # Get housing data\n",
    "    housing_data = convert_housing_data_to_quarters()\n",
    "    \n",
    "    # Get indexes of recession start Q and recession bottom Q\n",
    "    before_recession_start_idx = housing_data.columns.get_loc(get_recession_start())-1\n",
    "    recession_bottom_idx = housing_data.columns.get_loc(get_recession_bottom())\n",
    "    \n",
    "    # Add ratio column between the Q before the recession start and the recession bottom Q\n",
    "    housing_data['price_ratio'] = housing_data[housing_data.columns[before_recession_start_idx]]/housing_data[housing_data.columns[recession_bottom_idx]]\n",
    "    # Keep only quarter before recession, bottom of recession and price_ratio column\n",
    "    housing_data = housing_data[[before_recession_start_idx,recession_bottom_idx,-1]]\n",
    "    housing_data =  housing_data.dropna()\n",
    "    \n",
    "    # Get university towns dataframe and set 'State' and 'RegionName' as index\n",
    "    uni_towns = get_list_of_university_towns().set_index(['State', 'RegionName'])\n",
    "    \n",
    "    # Add column indicating if it is a university town or not\n",
    "    housing_data['university_town'] = housing_data.index.isin(uni_towns.index)\n",
    "    UT = housing_data[housing_data['university_town']==True]\n",
    "    Non_UT = housing_data[housing_data['university_town']==False]\n",
    "    \n",
    "    # Perform Ttest and get its p-value\n",
    "    p_value = ttest_ind(UT['price_ratio'], Non_UT['price_ratio']).pvalue\n",
    "    p_value\n",
    "    \n",
    "    if p_value < 0.01:\n",
    "        different=True\n",
    "    else:\n",
    "        different=False\n",
    "        \n",
    "    # Better depending on which one is LOWER! Remember prices go up during a recession so lower is better.\n",
    "    if UT['price_ratio'].mean() < Non_UT['price_ratio'].mean():\n",
    "        better='university town'\n",
    "    else:\n",
    "        better='non-university town'\n",
    "    \n",
    "    return (different, p_value, better)"
   ]
  }
 ],
 "metadata": {
  "coursera": {
   "course_slug": "python-data-analysis",
   "graded_item_id": "Il9Fx",
   "launcher_item_id": "TeDW0",
   "part_id": "WGlun"
  },
  "kernelspec": {
   "display_name": "Python 3",
   "language": "python",
   "name": "python3"
  },
  "language_info": {
   "codemirror_mode": {
    "name": "ipython",
    "version": 3
   },
   "file_extension": ".py",
   "mimetype": "text/x-python",
   "name": "python",
   "nbconvert_exporter": "python",
   "pygments_lexer": "ipython3",
   "version": "3.6.2"
  },
  "umich": {
   "id": "Assignment 4",
   "version": "1.1"
  }
 },
 "nbformat": 4,
 "nbformat_minor": 1
}
